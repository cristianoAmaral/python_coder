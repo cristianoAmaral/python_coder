{
 "cells": [
  {
   "attachments": {},
   "cell_type": "markdown",
   "metadata": {},
   "source": [
    "# Primeiro Programa"
   ]
  },
  {
   "cell_type": "code",
   "execution_count": null,
   "metadata": {},
   "outputs": [],
   "source": [
    "print(\"Primeiro Programa 2!\")\n",
    "\n",
    "1 +\\\n",
    "     2 \n",
    "\n",
    "help(print)\n",
    "\n",
    "print(\"Teste de código\")\n",
    "\n",
    "print(1 + 2 +3)\n",
    "print(3+5+9)\n",
    "\n"
   ]
  },
  {
   "attachments": {},
   "cell_type": "markdown",
   "metadata": {},
   "source": [
    "\n",
    "# Tipos Básicos"
   ]
  },
  {
   "cell_type": "code",
   "execution_count": null,
   "metadata": {},
   "outputs": [],
   "source": [
    "print(True)\n",
    "print(False)\n",
    "print(1.2 + 1)\n",
    "print(\"Aqui eu falo na minha lingua \")\n",
    "print('Tb Funciona! ')\n",
    "print('Você é ' + 3 * \"muito\" + \"legal!\")\n",
    "#print(3+ '3') -> ambiguidade\n",
    "print([ 1, 2, 3])\n",
    "print( {'nome':'Pedro' , 'sobrenome':\"Maciel\"} )\n",
    "print(None)\n"
   ]
  },
  {
   "attachments": {},
   "cell_type": "markdown",
   "metadata": {},
   "source": [
    "# Variáveis"
   ]
  },
  {
   "cell_type": "code",
   "execution_count": null,
   "metadata": {},
   "outputs": [],
   "source": [
    "a = 10 \n",
    "b = 5.2\n",
    "\n",
    "print(a + b)\n",
    "\n",
    "a = \"Agora sou uma string\"\n",
    "\n",
    "print(a)\n",
    "\n",
    "a \n",
    "b\n",
    "\n",
    "#print(a + b)"
   ]
  },
  {
   "attachments": {},
   "cell_type": "markdown",
   "metadata": {},
   "source": [
    "# Comentários de código Python"
   ]
  },
  {
   "cell_type": "code",
   "execution_count": null,
   "metadata": {},
   "outputs": [],
   "source": [
    "# Minhas variáveis\n",
    "salario = 3450.45\n",
    "despesas = 2456.2\n",
    "'''\n",
    " A ideia é calcular o valor\n",
    " quanto vai sobrar no fim do mês\n",
    "'''\n",
    "print(salario - despesas)\n",
    "\n",
    "#priny(\"Fim\")\n",
    "\n",
    "print('Fim de verdade') # comentário aqui tb vale.\n",
    "\n",
    "# Essa variável é um teste\n",
    "print(\"Teste\")"
   ]
  },
  {
   "attachments": {},
   "cell_type": "markdown",
   "metadata": {},
   "source": [
    "# Operadores Aritiméticos"
   ]
  },
  {
   "cell_type": "code",
   "execution_count": null,
   "metadata": {},
   "outputs": [],
   "source": [
    "print(2 + 3)\n",
    "print(4 - 7)\n",
    "print(2 * 5.3)\n",
    "print(9.4 / 2)\n",
    "print(9.4 // 2)\n",
    "print(2 ** 8)\n",
    "print(10 % 3)\n",
    "\n",
    "a = 12\n",
    "b = a\n",
    "print(a + b)"
   ]
  },
  {
   "attachments": {},
   "cell_type": "markdown",
   "metadata": {},
   "source": [
    "# Desafio Operadores Aritiméticos"
   ]
  },
  {
   "cell_type": "code",
   "execution_count": null,
   "metadata": {},
   "outputs": [],
   "source": [
    "salario = 3450.45\n",
    "despesas = 2456.2\n",
    "\n",
    "# Resposta do Desafio\n",
    "\n",
    "percentual_comprometido = despesas / salario * 100\n",
    "percentual_comprometido\n",
    "\n"
   ]
  },
  {
   "attachments": {},
   "cell_type": "markdown",
   "metadata": {},
   "source": [
    "# Operadores Relacionais"
   ]
  },
  {
   "cell_type": "code",
   "execution_count": null,
   "metadata": {},
   "outputs": [],
   "source": [
    "print(3 > 4)\n",
    "print(4 >= 3)\n",
    "print(1 < 2)\n",
    "print(3 <= 1)\n",
    "print(3 != 2)\n",
    "print(3 == 3)\n",
    "print(2 == '2')"
   ]
  },
  {
   "attachments": {},
   "cell_type": "markdown",
   "metadata": {},
   "source": [
    "# Operador de Atribuição"
   ]
  },
  {
   "cell_type": "code",
   "execution_count": 7,
   "metadata": {},
   "outputs": [
    {
     "name": "stdout",
     "output_type": "stream",
     "text": [
      "10\n",
      "15\n",
      "12\n",
      "24\n",
      "6.0\n",
      "2.0\n",
      "256.0\n",
      "1.0\n"
     ]
    }
   ],
   "source": [
    "a = 3\n",
    "a = a + 7\n",
    "print(a)\n",
    "\n",
    "a += 5\n",
    "print(a)\n",
    "\n",
    "a -= 3\n",
    "print(a)\n",
    "\n",
    "a *= 2\n",
    "print(a)\n",
    "\n",
    "a /= 4\n",
    "print(a)\n",
    "\n",
    "a %= 4\n",
    "print(a)\n",
    "\n",
    "a **= 8\n",
    "print(a)\n",
    "\n",
    "a //= 255\n",
    "print(a)"
   ]
  },
  {
   "attachments": {},
   "cell_type": "markdown",
   "metadata": {},
   "source": [
    "# Operadores Relacionais"
   ]
  },
  {
   "cell_type": "code",
   "execution_count": 19,
   "metadata": {},
   "outputs": [
    {
     "data": {
      "text/plain": [
       "True"
      ]
     },
     "execution_count": 19,
     "metadata": {},
     "output_type": "execute_result"
    }
   ],
   "source": [
    "True or False\n",
    "7 != 3 and 2 > 3\n",
    "\n",
    "# Tabela verdade do AND\n",
    "\n",
    "True and True\n",
    "True and False\n",
    "False and True\n",
    "False and False\n",
    "True and False and False and True and True and True\n",
    "\n",
    "# Tabela Verdade do OR\n",
    "\n",
    "True or True\n",
    "True or False\n",
    "False or True\n",
    "False or False\n",
    "False or False or True or False or False or False\n",
    "\n",
    "# Tabel verdade do Xor\n",
    "\n",
    "True != True\n",
    "True != False\n",
    "False != True\n",
    "False != False\n",
    "\n",
    "# Operador de Negação\n",
    "\n",
    "not True\n",
    "not False\n",
    "\n",
    "not 0\n",
    "not 1\n",
    "not not -1\n",
    "not not True\n",
    "\n",
    "# Cuidado\n",
    "\n",
    "True & False\n",
    "False | False\n",
    "True ^ False\n",
    "\n",
    "# AND Bit-a-Bit\n",
    "\n",
    "# 3 = 11\n",
    "# 2 = 10\n",
    "# _ = 10\n",
    "3 & 2\n",
    "\n",
    "\n",
    "# OR Bit-a-Bit\n",
    "\n",
    "# 3 = 11\n",
    "# 2 = 10\n",
    "# _ = 10\n",
    "3 | 2\n",
    "\n",
    "\n",
    "# XOR Bit-a-Bit\n",
    "\n",
    "# 3 = 11\n",
    "# 2 = 10\n",
    "# _ = 10\n",
    "3 ^ 2\n",
    "\n"
   ]
  },
  {
   "attachments": {},
   "cell_type": "markdown",
   "metadata": {},
   "source": [
    "# Desafio Operadores Lógico"
   ]
  },
  {
   "cell_type": "code",
   "execution_count": null,
   "metadata": {},
   "outputs": [],
   "source": []
  }
 ],
 "metadata": {
  "kernelspec": {
   "display_name": "Python 3",
   "language": "python",
   "name": "python3"
  },
  "language_info": {
   "codemirror_mode": {
    "name": "ipython",
    "version": 3
   },
   "file_extension": ".py",
   "mimetype": "text/x-python",
   "name": "python",
   "nbconvert_exporter": "python",
   "pygments_lexer": "ipython3",
   "version": "3.11.0"
  },
  "orig_nbformat": 4,
  "vscode": {
   "interpreter": {
    "hash": "c261aea317cc0286b3b3261fbba9abdec21eaa57589985bb7a274bf54d6cc0a7"
   }
  }
 },
 "nbformat": 4,
 "nbformat_minor": 2
}
